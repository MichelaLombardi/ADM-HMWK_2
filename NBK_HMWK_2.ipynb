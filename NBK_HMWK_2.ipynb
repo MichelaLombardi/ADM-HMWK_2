{
 "cells": [
  {
   "cell_type": "markdown",
   "metadata": {},
   "source": [
    "# **Algorithm and Data Mining for Data Science**\n",
    "\n",
    "\n",
    "\n",
    "## **#2 Homework: Instagram Profiles & Posts**"
   ]
  },
  {
   "cell_type": "markdown",
   "metadata": {},
   "source": [
    "### **[RQ1] = Exploratory Data Analysis**\n",
    "What can you say about our datasets? Please summarise its main characteristics with visual and tabular methods."
   ]
  },
  {
   "cell_type": "code",
   "execution_count": 3,
   "metadata": {},
   "outputs": [],
   "source": [
    "#Libraries\n",
    "import pandas as pd\n",
    "import numpy as np\n",
    "import matplotlib.pyplot as plt\n",
    "import seaborn as sns"
   ]
  },
  {
   "cell_type": "markdown",
   "metadata": {},
   "source": [
    "####  Step 1: Importing Datasets"
   ]
  },
  {
   "cell_type": "code",
   "execution_count": 40,
   "metadata": {},
   "outputs": [],
   "source": [
    "df_inst_loc= pd.read_csv('instagram_locations.csv', sep='\\t')"
   ]
  },
  {
   "cell_type": "code",
   "execution_count": 5,
   "metadata": {},
   "outputs": [],
   "source": [
    "df_inst_posts= pd.read_csv('instagram_posts.csv', sep='\\t', chunksize=1000000)"
   ]
  },
  {
   "cell_type": "code",
   "execution_count": 4,
   "metadata": {},
   "outputs": [],
   "source": [
    "df_inst_prof= pd.read_csv('instagram_profiles.csv', sep='\\t')"
   ]
  },
  {
   "cell_type": "markdown",
   "metadata": {},
   "source": [
    "#### Step 2: Understanding the big picture with Tabular Representation"
   ]
  },
  {
   "cell_type": "code",
   "execution_count": 6,
   "metadata": {},
   "outputs": [
    {
     "data": {
      "text/html": [
       "<div>\n",
       "<style scoped>\n",
       "    .dataframe tbody tr th:only-of-type {\n",
       "        vertical-align: middle;\n",
       "    }\n",
       "\n",
       "    .dataframe tbody tr th {\n",
       "        vertical-align: top;\n",
       "    }\n",
       "\n",
       "    .dataframe thead th {\n",
       "        text-align: right;\n",
       "    }\n",
       "</style>\n",
       "<table border=\"1\" class=\"dataframe\">\n",
       "  <thead>\n",
       "    <tr style=\"text-align: right;\">\n",
       "      <th></th>\n",
       "      <th>sid</th>\n",
       "      <th>id</th>\n",
       "      <th>name</th>\n",
       "      <th>street</th>\n",
       "      <th>zip</th>\n",
       "      <th>city</th>\n",
       "      <th>region</th>\n",
       "      <th>cd</th>\n",
       "      <th>phone</th>\n",
       "      <th>aj_exact_city_match</th>\n",
       "      <th>...</th>\n",
       "      <th>dir_city_name</th>\n",
       "      <th>dir_city_slug</th>\n",
       "      <th>dir_country_id</th>\n",
       "      <th>dir_country_name</th>\n",
       "      <th>lat</th>\n",
       "      <th>lng</th>\n",
       "      <th>primary_alias_on_fb</th>\n",
       "      <th>slug</th>\n",
       "      <th>website</th>\n",
       "      <th>cts</th>\n",
       "    </tr>\n",
       "  </thead>\n",
       "  <tbody>\n",
       "    <tr>\n",
       "      <th>0</th>\n",
       "      <td>719981</td>\n",
       "      <td>110296492939207</td>\n",
       "      <td>Playa de Daimuz - Valencia, España</td>\n",
       "      <td>NaN</td>\n",
       "      <td>NaN</td>\n",
       "      <td>NaN</td>\n",
       "      <td>NaN</td>\n",
       "      <td>NaN</td>\n",
       "      <td>NaN</td>\n",
       "      <td>False</td>\n",
       "      <td>...</td>\n",
       "      <td>NaN</td>\n",
       "      <td>NaN</td>\n",
       "      <td>NaN</td>\n",
       "      <td>NaN</td>\n",
       "      <td>-0.139475</td>\n",
       "      <td>38.974391</td>\n",
       "      <td>daimuzplaya</td>\n",
       "      <td>playa-de-daimuz-valencia-espana</td>\n",
       "      <td>https://es.wikipedia.org/wiki/Daimuz</td>\n",
       "      <td>2019-05-29 01:21:29.987</td>\n",
       "    </tr>\n",
       "    <tr>\n",
       "      <th>1</th>\n",
       "      <td>719983</td>\n",
       "      <td>274391278</td>\n",
       "      <td>Nová Vieska</td>\n",
       "      <td>NaN</td>\n",
       "      <td>NaN</td>\n",
       "      <td>Nová Vieska</td>\n",
       "      <td>NaN</td>\n",
       "      <td>SK</td>\n",
       "      <td>NaN</td>\n",
       "      <td>True</td>\n",
       "      <td>...</td>\n",
       "      <td>Kis-Újfalu</td>\n",
       "      <td>kis-ujfalu</td>\n",
       "      <td>SK</td>\n",
       "      <td>Slovakia</td>\n",
       "      <td>18.466667</td>\n",
       "      <td>47.866667</td>\n",
       "      <td>NaN</td>\n",
       "      <td>nova-vieska</td>\n",
       "      <td>NaN</td>\n",
       "      <td>2019-05-29 01:21:38.037</td>\n",
       "    </tr>\n",
       "    <tr>\n",
       "      <th>2</th>\n",
       "      <td>719985</td>\n",
       "      <td>148885595789195</td>\n",
       "      <td>Everest Today</td>\n",
       "      <td>Himalayas</td>\n",
       "      <td>+977</td>\n",
       "      <td>Kathmandu, Nepal</td>\n",
       "      <td>NaN</td>\n",
       "      <td>NP</td>\n",
       "      <td>NaN</td>\n",
       "      <td>False</td>\n",
       "      <td>...</td>\n",
       "      <td>Pasupati</td>\n",
       "      <td>pasupati</td>\n",
       "      <td>NP</td>\n",
       "      <td>Nepal</td>\n",
       "      <td>85.330150</td>\n",
       "      <td>27.701960</td>\n",
       "      <td>EverestToday</td>\n",
       "      <td>everest-today</td>\n",
       "      <td>NaN</td>\n",
       "      <td>2019-05-29 01:21:46.295</td>\n",
       "    </tr>\n",
       "    <tr>\n",
       "      <th>3</th>\n",
       "      <td>719987</td>\n",
       "      <td>263258277</td>\n",
       "      <td>BULAC - Bibliothèque universitaire des langues...</td>\n",
       "      <td>65, rue des Grands-Moulins</td>\n",
       "      <td>75013</td>\n",
       "      <td>Paris, France</td>\n",
       "      <td>NaN</td>\n",
       "      <td>FR</td>\n",
       "      <td>01 81 69 18 00</td>\n",
       "      <td>False</td>\n",
       "      <td>...</td>\n",
       "      <td>13ème Arrondissement Paris</td>\n",
       "      <td>13eme-arrondissement-paris</td>\n",
       "      <td>FR</td>\n",
       "      <td>France</td>\n",
       "      <td>2.375995</td>\n",
       "      <td>48.827240</td>\n",
       "      <td>BULAC.Paris</td>\n",
       "      <td>bulac-bibliotheque-universitaire-des-langues-e...</td>\n",
       "      <td>www.bulac.fr</td>\n",
       "      <td>2019-05-29 01:21:54.355</td>\n",
       "    </tr>\n",
       "    <tr>\n",
       "      <th>4</th>\n",
       "      <td>326443</td>\n",
       "      <td>406147529857708</td>\n",
       "      <td>ABC Cable Networks Group</td>\n",
       "      <td>3800 W Alameda Ave</td>\n",
       "      <td>91505</td>\n",
       "      <td>Burbank, California</td>\n",
       "      <td>NaN</td>\n",
       "      <td>US</td>\n",
       "      <td>(818) 569-7500</td>\n",
       "      <td>False</td>\n",
       "      <td>...</td>\n",
       "      <td>NaN</td>\n",
       "      <td>NaN</td>\n",
       "      <td>NaN</td>\n",
       "      <td>NaN</td>\n",
       "      <td>-118.341864</td>\n",
       "      <td>34.153265</td>\n",
       "      <td>NaN</td>\n",
       "      <td>abc-cable-networks-group</td>\n",
       "      <td>NaN</td>\n",
       "      <td>2019-04-02 15:22:55.703</td>\n",
       "    </tr>\n",
       "  </tbody>\n",
       "</table>\n",
       "<p>5 rows × 23 columns</p>\n",
       "</div>"
      ],
      "text/plain": [
       "      sid               id                                               name  \\\n",
       "0  719981  110296492939207                 Playa de Daimuz - Valencia, España   \n",
       "1  719983        274391278                                        Nová Vieska   \n",
       "2  719985  148885595789195                                      Everest Today   \n",
       "3  719987        263258277  BULAC - Bibliothèque universitaire des langues...   \n",
       "4  326443  406147529857708                           ABC Cable Networks Group   \n",
       "\n",
       "                       street    zip                 city region   cd  \\\n",
       "0                         NaN    NaN                  NaN    NaN  NaN   \n",
       "1                         NaN    NaN          Nová Vieska    NaN   SK   \n",
       "2                   Himalayas   +977     Kathmandu, Nepal    NaN   NP   \n",
       "3  65, rue des Grands-Moulins  75013        Paris, France    NaN   FR   \n",
       "4          3800 W Alameda Ave  91505  Burbank, California    NaN   US   \n",
       "\n",
       "            phone aj_exact_city_match  ...               dir_city_name  \\\n",
       "0             NaN               False  ...                         NaN   \n",
       "1             NaN                True  ...                  Kis-Újfalu   \n",
       "2             NaN               False  ...                    Pasupati   \n",
       "3  01 81 69 18 00               False  ...  13ème Arrondissement Paris   \n",
       "4  (818) 569-7500               False  ...                         NaN   \n",
       "\n",
       "                dir_city_slug dir_country_id dir_country_name         lat  \\\n",
       "0                         NaN            NaN              NaN   -0.139475   \n",
       "1                  kis-ujfalu             SK         Slovakia   18.466667   \n",
       "2                    pasupati             NP            Nepal   85.330150   \n",
       "3  13eme-arrondissement-paris             FR           France    2.375995   \n",
       "4                         NaN            NaN              NaN -118.341864   \n",
       "\n",
       "         lng primary_alias_on_fb  \\\n",
       "0  38.974391         daimuzplaya   \n",
       "1  47.866667                 NaN   \n",
       "2  27.701960        EverestToday   \n",
       "3  48.827240         BULAC.Paris   \n",
       "4  34.153265                 NaN   \n",
       "\n",
       "                                                slug  \\\n",
       "0                    playa-de-daimuz-valencia-espana   \n",
       "1                                        nova-vieska   \n",
       "2                                      everest-today   \n",
       "3  bulac-bibliotheque-universitaire-des-langues-e...   \n",
       "4                           abc-cable-networks-group   \n",
       "\n",
       "                                website                      cts  \n",
       "0  https://es.wikipedia.org/wiki/Daimuz  2019-05-29 01:21:29.987  \n",
       "1                                   NaN  2019-05-29 01:21:38.037  \n",
       "2                                   NaN  2019-05-29 01:21:46.295  \n",
       "3                          www.bulac.fr  2019-05-29 01:21:54.355  \n",
       "4                                   NaN  2019-04-02 15:22:55.703  \n",
       "\n",
       "[5 rows x 23 columns]"
      ]
     },
     "execution_count": 6,
     "metadata": {},
     "output_type": "execute_result"
    }
   ],
   "source": [
    "df_inst_loc.head(5)"
   ]
  },
  {
   "cell_type": "code",
   "execution_count": 7,
   "metadata": {},
   "outputs": [
    {
     "data": {
      "text/html": [
       "<div>\n",
       "<style scoped>\n",
       "    .dataframe tbody tr th:only-of-type {\n",
       "        vertical-align: middle;\n",
       "    }\n",
       "\n",
       "    .dataframe tbody tr th {\n",
       "        vertical-align: top;\n",
       "    }\n",
       "\n",
       "    .dataframe thead th {\n",
       "        text-align: right;\n",
       "    }\n",
       "</style>\n",
       "<table border=\"1\" class=\"dataframe\">\n",
       "  <thead>\n",
       "    <tr style=\"text-align: right;\">\n",
       "      <th></th>\n",
       "      <th>sid</th>\n",
       "      <th>sid_profile</th>\n",
       "      <th>post_id</th>\n",
       "      <th>profile_id</th>\n",
       "      <th>location_id</th>\n",
       "      <th>cts</th>\n",
       "      <th>post_type</th>\n",
       "      <th>description</th>\n",
       "      <th>numbr_likes</th>\n",
       "      <th>number_comments</th>\n",
       "    </tr>\n",
       "  </thead>\n",
       "  <tbody>\n",
       "    <tr>\n",
       "      <th>0</th>\n",
       "      <td>28370919</td>\n",
       "      <td>3496776</td>\n",
       "      <td>BXdjjUlgcgq</td>\n",
       "      <td>2.237948e+09</td>\n",
       "      <td>1.022366e+15</td>\n",
       "      <td>2017-08-06 20:06:57.000</td>\n",
       "      <td>2</td>\n",
       "      <td>Wreckloose! Deevalley bike park laps on the @i...</td>\n",
       "      <td>80</td>\n",
       "      <td>0</td>\n",
       "    </tr>\n",
       "    <tr>\n",
       "      <th>1</th>\n",
       "      <td>28370932</td>\n",
       "      <td>-1</td>\n",
       "      <td>BVg0pbolYBC</td>\n",
       "      <td>5.579335e+09</td>\n",
       "      <td>4.574268e+14</td>\n",
       "      <td>2017-06-19 09:31:16.000</td>\n",
       "      <td>1</td>\n",
       "      <td>🙌🏼 believe in ya dreams 🙌🏼 just like I believe...</td>\n",
       "      <td>25</td>\n",
       "      <td>1</td>\n",
       "    </tr>\n",
       "    <tr>\n",
       "      <th>2</th>\n",
       "      <td>28370933</td>\n",
       "      <td>-1</td>\n",
       "      <td>BRgkjcXFp3Q</td>\n",
       "      <td>3.134296e+08</td>\n",
       "      <td>4.574268e+14</td>\n",
       "      <td>2017-03-11 20:05:03.000</td>\n",
       "      <td>1</td>\n",
       "      <td>#meraviglia #incensi #the #candele #profumo #a...</td>\n",
       "      <td>9</td>\n",
       "      <td>0</td>\n",
       "    </tr>\n",
       "    <tr>\n",
       "      <th>3</th>\n",
       "      <td>28370934</td>\n",
       "      <td>-1</td>\n",
       "      <td>BKTKeNhjEA7</td>\n",
       "      <td>1.837593e+09</td>\n",
       "      <td>4.574268e+14</td>\n",
       "      <td>2016-09-13 16:27:16.000</td>\n",
       "      <td>1</td>\n",
       "      <td>#teatime #scorpion #friends #love #mountains #...</td>\n",
       "      <td>4</td>\n",
       "      <td>0</td>\n",
       "    </tr>\n",
       "    <tr>\n",
       "      <th>4</th>\n",
       "      <td>28370935</td>\n",
       "      <td>-1</td>\n",
       "      <td>8-NQrvoYLX</td>\n",
       "      <td>1.131527e+09</td>\n",
       "      <td>4.574268e+14</td>\n",
       "      <td>2015-10-18 10:19:27.000</td>\n",
       "      <td>1</td>\n",
       "      <td>thE sky gavE mE a #constEllation</td>\n",
       "      <td>8</td>\n",
       "      <td>0</td>\n",
       "    </tr>\n",
       "  </tbody>\n",
       "</table>\n",
       "</div>"
      ],
      "text/plain": [
       "        sid  sid_profile      post_id    profile_id   location_id  \\\n",
       "0  28370919      3496776  BXdjjUlgcgq  2.237948e+09  1.022366e+15   \n",
       "1  28370932           -1  BVg0pbolYBC  5.579335e+09  4.574268e+14   \n",
       "2  28370933           -1  BRgkjcXFp3Q  3.134296e+08  4.574268e+14   \n",
       "3  28370934           -1  BKTKeNhjEA7  1.837593e+09  4.574268e+14   \n",
       "4  28370935           -1   8-NQrvoYLX  1.131527e+09  4.574268e+14   \n",
       "\n",
       "                       cts  post_type  \\\n",
       "0  2017-08-06 20:06:57.000          2   \n",
       "1  2017-06-19 09:31:16.000          1   \n",
       "2  2017-03-11 20:05:03.000          1   \n",
       "3  2016-09-13 16:27:16.000          1   \n",
       "4  2015-10-18 10:19:27.000          1   \n",
       "\n",
       "                                         description  numbr_likes  \\\n",
       "0  Wreckloose! Deevalley bike park laps on the @i...           80   \n",
       "1  🙌🏼 believe in ya dreams 🙌🏼 just like I believe...           25   \n",
       "2  #meraviglia #incensi #the #candele #profumo #a...            9   \n",
       "3  #teatime #scorpion #friends #love #mountains #...            4   \n",
       "4                   thE sky gavE mE a #constEllation            8   \n",
       "\n",
       "   number_comments  \n",
       "0                0  \n",
       "1                1  \n",
       "2                0  \n",
       "3                0  \n",
       "4                0  "
      ]
     },
     "metadata": {},
     "output_type": "display_data"
    }
   ],
   "source": [
    "for chunk in df_inst_posts:\n",
    "    display(chunk.head())\n",
    "    break"
   ]
  },
  {
   "cell_type": "code",
   "execution_count": 8,
   "metadata": {},
   "outputs": [
    {
     "data": {
      "text/html": [
       "<div>\n",
       "<style scoped>\n",
       "    .dataframe tbody tr th:only-of-type {\n",
       "        vertical-align: middle;\n",
       "    }\n",
       "\n",
       "    .dataframe tbody tr th {\n",
       "        vertical-align: top;\n",
       "    }\n",
       "\n",
       "    .dataframe thead th {\n",
       "        text-align: right;\n",
       "    }\n",
       "</style>\n",
       "<table border=\"1\" class=\"dataframe\">\n",
       "  <thead>\n",
       "    <tr style=\"text-align: right;\">\n",
       "      <th></th>\n",
       "      <th>sid</th>\n",
       "      <th>profile_id</th>\n",
       "      <th>profile_name</th>\n",
       "      <th>firstname_lastname</th>\n",
       "      <th>description</th>\n",
       "      <th>following</th>\n",
       "      <th>followers</th>\n",
       "      <th>n_posts</th>\n",
       "      <th>url</th>\n",
       "      <th>cts</th>\n",
       "      <th>is_business_account</th>\n",
       "    </tr>\n",
       "  </thead>\n",
       "  <tbody>\n",
       "    <tr>\n",
       "      <th>0</th>\n",
       "      <td>4184446</td>\n",
       "      <td>4.721050e+09</td>\n",
       "      <td>jphillip033</td>\n",
       "      <td>John Pierce</td>\n",
       "      <td>\"Document Everything Always\"</td>\n",
       "      <td>250.0</td>\n",
       "      <td>146.0</td>\n",
       "      <td>170.0</td>\n",
       "      <td>NaN</td>\n",
       "      <td>2019-08-01 14:38:55.394 -0400</td>\n",
       "      <td>False</td>\n",
       "    </tr>\n",
       "    <tr>\n",
       "      <th>1</th>\n",
       "      <td>4184457</td>\n",
       "      <td>5.905830e+08</td>\n",
       "      <td>mama_haas</td>\n",
       "      <td>Deanna</td>\n",
       "      <td>Trying to enjoy the simple things in life. Kni...</td>\n",
       "      <td>534.0</td>\n",
       "      <td>1145.0</td>\n",
       "      <td>2878.0</td>\n",
       "      <td>www.etsy.com/shop/MamaHaas69</td>\n",
       "      <td>2019-08-01 14:39:36.526 -0400</td>\n",
       "      <td>False</td>\n",
       "    </tr>\n",
       "    <tr>\n",
       "      <th>2</th>\n",
       "      <td>4184460</td>\n",
       "      <td>1.074147e+09</td>\n",
       "      <td>yellowlightbreen</td>\n",
       "      <td>Eliza Gray</td>\n",
       "      <td>Maine is for Lovers</td>\n",
       "      <td>469.0</td>\n",
       "      <td>324.0</td>\n",
       "      <td>431.0</td>\n",
       "      <td>elizajanegray.com</td>\n",
       "      <td>2019-08-01 14:39:54.407 -0400</td>\n",
       "      <td>False</td>\n",
       "    </tr>\n",
       "    <tr>\n",
       "      <th>3</th>\n",
       "      <td>4184461</td>\n",
       "      <td>1.472039e+09</td>\n",
       "      <td>tec1025</td>\n",
       "      <td>Thomas Clark</td>\n",
       "      <td>NaN</td>\n",
       "      <td>NaN</td>\n",
       "      <td>NaN</td>\n",
       "      <td>NaN</td>\n",
       "      <td>NaN</td>\n",
       "      <td>2019-08-01 14:40:06.472 -0400</td>\n",
       "      <td>NaN</td>\n",
       "    </tr>\n",
       "    <tr>\n",
       "      <th>4</th>\n",
       "      <td>4184462</td>\n",
       "      <td>3.531421e+09</td>\n",
       "      <td>luckyfluff</td>\n",
       "      <td>NaN</td>\n",
       "      <td>NaN</td>\n",
       "      <td>NaN</td>\n",
       "      <td>NaN</td>\n",
       "      <td>NaN</td>\n",
       "      <td>NaN</td>\n",
       "      <td>2019-08-01 14:40:07.806 -0400</td>\n",
       "      <td>NaN</td>\n",
       "    </tr>\n",
       "  </tbody>\n",
       "</table>\n",
       "</div>"
      ],
      "text/plain": [
       "       sid    profile_id      profile_name firstname_lastname  \\\n",
       "0  4184446  4.721050e+09       jphillip033        John Pierce   \n",
       "1  4184457  5.905830e+08         mama_haas             Deanna   \n",
       "2  4184460  1.074147e+09  yellowlightbreen         Eliza Gray   \n",
       "3  4184461  1.472039e+09           tec1025       Thomas Clark   \n",
       "4  4184462  3.531421e+09        luckyfluff                NaN   \n",
       "\n",
       "                                         description  following  followers  \\\n",
       "0                       \"Document Everything Always\"      250.0      146.0   \n",
       "1  Trying to enjoy the simple things in life. Kni...      534.0     1145.0   \n",
       "2                                Maine is for Lovers      469.0      324.0   \n",
       "3                                                NaN        NaN        NaN   \n",
       "4                                                NaN        NaN        NaN   \n",
       "\n",
       "   n_posts                           url                            cts  \\\n",
       "0    170.0                           NaN  2019-08-01 14:38:55.394 -0400   \n",
       "1   2878.0  www.etsy.com/shop/MamaHaas69  2019-08-01 14:39:36.526 -0400   \n",
       "2    431.0             elizajanegray.com  2019-08-01 14:39:54.407 -0400   \n",
       "3      NaN                           NaN  2019-08-01 14:40:06.472 -0400   \n",
       "4      NaN                           NaN  2019-08-01 14:40:07.806 -0400   \n",
       "\n",
       "  is_business_account  \n",
       "0               False  \n",
       "1               False  \n",
       "2               False  \n",
       "3                 NaN  \n",
       "4                 NaN  "
      ]
     },
     "execution_count": 8,
     "metadata": {},
     "output_type": "execute_result"
    }
   ],
   "source": [
    "df_inst_prof.head(5)"
   ]
  },
  {
   "cell_type": "code",
   "execution_count": 9,
   "metadata": {},
   "outputs": [
    {
     "data": {
      "text/plain": [
       "(1022658, 23)"
      ]
     },
     "execution_count": 9,
     "metadata": {},
     "output_type": "execute_result"
    }
   ],
   "source": [
    "df_inst_loc.shape"
   ]
  },
  {
   "cell_type": "markdown",
   "metadata": {},
   "source": [
    "1022658 rows and 23 columns for instagram location dataset"
   ]
  },
  {
   "cell_type": "code",
   "execution_count": 11,
   "metadata": {},
   "outputs": [
    {
     "name": "stdout",
     "output_type": "stream",
     "text": [
      "41710197\n"
     ]
    }
   ],
   "source": [
    "sumChunks = 0\n",
    "for count, chunk in enumerate(df_inst_posts,start=1):\n",
    "    sumChunks = sumChunks + chunk.shape[0]\n",
    "print(sumChunks)"
   ]
  },
  {
   "cell_type": "markdown",
   "metadata": {},
   "source": [
    "41710197 rows and 10 columns for instagram posts dataset"
   ]
  },
  {
   "cell_type": "code",
   "execution_count": 12,
   "metadata": {},
   "outputs": [
    {
     "data": {
      "text/plain": [
       "(4509586, 11)"
      ]
     },
     "execution_count": 12,
     "metadata": {},
     "output_type": "execute_result"
    }
   ],
   "source": [
    "df_inst_prof.shape"
   ]
  },
  {
   "cell_type": "markdown",
   "metadata": {},
   "source": [
    "###### 4509586 rows and 11 columns for instagram profiles dataset"
   ]
  },
  {
   "cell_type": "code",
   "execution_count": 13,
   "metadata": {},
   "outputs": [
    {
     "name": "stdout",
     "output_type": "stream",
     "text": [
      "<class 'pandas.core.frame.DataFrame'>\n",
      "RangeIndex: 1022658 entries, 0 to 1022657\n",
      "Data columns (total 23 columns):\n",
      " #   Column                  Non-Null Count    Dtype  \n",
      "---  ------                  --------------    -----  \n",
      " 0   sid                     1022658 non-null  int64  \n",
      " 1   id                      1022658 non-null  int64  \n",
      " 2   name                    1022658 non-null  object \n",
      " 3   street                  715704 non-null   object \n",
      " 4   zip                     715579 non-null   object \n",
      " 5   city                    937166 non-null   object \n",
      " 6   region                  1760 non-null     object \n",
      " 7   cd                      939010 non-null   object \n",
      " 8   phone                   601688 non-null   object \n",
      " 9   aj_exact_city_match     1000510 non-null  object \n",
      " 10  aj_exact_country_match  1000510 non-null  object \n",
      " 11  blurb                   406705 non-null   object \n",
      " 12  dir_city_id             495698 non-null   object \n",
      " 13  dir_city_name           495698 non-null   object \n",
      " 14  dir_city_slug           495221 non-null   object \n",
      " 15  dir_country_id          495628 non-null   object \n",
      " 16  dir_country_name        495698 non-null   object \n",
      " 17  lat                     1016495 non-null  float64\n",
      " 18  lng                     1016495 non-null  float64\n",
      " 19  primary_alias_on_fb     425531 non-null   object \n",
      " 20  slug                    941668 non-null   object \n",
      " 21  website                 623262 non-null   object \n",
      " 22  cts                     1022658 non-null  object \n",
      "dtypes: float64(2), int64(2), object(19)\n",
      "memory usage: 179.5+ MB\n"
     ]
    }
   ],
   "source": [
    "df_inst_loc.info()"
   ]
  },
  {
   "cell_type": "code",
   "execution_count": 28,
   "metadata": {},
   "outputs": [
    {
     "name": "stdout",
     "output_type": "stream",
     "text": [
      "<class 'pandas.core.frame.DataFrame'>\n",
      "RangeIndex: 4509586 entries, 0 to 4509585\n",
      "Data columns (total 11 columns):\n",
      " #   Column               Dtype  \n",
      "---  ------               -----  \n",
      " 0   sid                  int64  \n",
      " 1   profile_id           float64\n",
      " 2   profile_name         object \n",
      " 3   firstname_lastname   object \n",
      " 4   description          object \n",
      " 5   following            float64\n",
      " 6   followers            float64\n",
      " 7   n_posts              float64\n",
      " 8   url                  object \n",
      " 9   cts                  object \n",
      " 10  is_business_account  object \n",
      "dtypes: float64(4), int64(1), object(6)\n",
      "memory usage: 378.5+ MB\n"
     ]
    }
   ],
   "source": [
    "df_inst_prof.info()"
   ]
  },
  {
   "cell_type": "code",
   "execution_count": 42,
   "metadata": {},
   "outputs": [
    {
     "name": "stdout",
     "output_type": "stream",
     "text": [
      "In the Location Dataset there are 235 unique countries\n"
     ]
    }
   ],
   "source": [
    "#How many unique countries are present in the location dataset?\n",
    "var = df_inst_loc.dir_country_name.nunique()\n",
    "var_1 = str(var)\n",
    "print('In the Location Dataset there are '+ var_1 + ' unique countries')"
   ]
  },
  {
   "cell_type": "code",
   "execution_count": 43,
   "metadata": {},
   "outputs": [
    {
     "name": "stdout",
     "output_type": "stream",
     "text": [
      "In the Profile Dataset there are 4508180 unique profiles\n"
     ]
    }
   ],
   "source": [
    "#How many unique profiles are present in the profiles dataset?\n",
    "var = df_inst_prof.profile_name.nunique()\n",
    "var_2= str(var)\n",
    "print(('In the Profile Dataset there are '+ var_2 + ' unique profiles'))"
   ]
  },
  {
   "cell_type": "markdown",
   "metadata": {},
   "source": [
    "#### Step 3: Visual Analytics"
   ]
  },
  {
   "cell_type": "code",
   "execution_count": 47,
   "metadata": {},
   "outputs": [
    {
     "data": {
      "text/html": [
       "<div>\n",
       "<style scoped>\n",
       "    .dataframe tbody tr th:only-of-type {\n",
       "        vertical-align: middle;\n",
       "    }\n",
       "\n",
       "    .dataframe tbody tr th {\n",
       "        vertical-align: top;\n",
       "    }\n",
       "\n",
       "    .dataframe thead th {\n",
       "        text-align: right;\n",
       "    }\n",
       "</style>\n",
       "<table border=\"1\" class=\"dataframe\">\n",
       "  <thead>\n",
       "    <tr style=\"text-align: right;\">\n",
       "      <th></th>\n",
       "      <th>profile_id</th>\n",
       "      <th>following</th>\n",
       "      <th>followers</th>\n",
       "      <th>n_posts</th>\n",
       "    </tr>\n",
       "  </thead>\n",
       "  <tbody>\n",
       "    <tr>\n",
       "      <th>0</th>\n",
       "      <td>4.721050e+09</td>\n",
       "      <td>250.0</td>\n",
       "      <td>146.0</td>\n",
       "      <td>170.0</td>\n",
       "    </tr>\n",
       "    <tr>\n",
       "      <th>1</th>\n",
       "      <td>5.905830e+08</td>\n",
       "      <td>534.0</td>\n",
       "      <td>1145.0</td>\n",
       "      <td>2878.0</td>\n",
       "    </tr>\n",
       "    <tr>\n",
       "      <th>2</th>\n",
       "      <td>1.074147e+09</td>\n",
       "      <td>469.0</td>\n",
       "      <td>324.0</td>\n",
       "      <td>431.0</td>\n",
       "    </tr>\n",
       "    <tr>\n",
       "      <th>3</th>\n",
       "      <td>1.472039e+09</td>\n",
       "      <td>NaN</td>\n",
       "      <td>NaN</td>\n",
       "      <td>NaN</td>\n",
       "    </tr>\n",
       "    <tr>\n",
       "      <th>4</th>\n",
       "      <td>3.531421e+09</td>\n",
       "      <td>NaN</td>\n",
       "      <td>NaN</td>\n",
       "      <td>NaN</td>\n",
       "    </tr>\n",
       "  </tbody>\n",
       "</table>\n",
       "</div>"
      ],
      "text/plain": [
       "     profile_id  following  followers  n_posts\n",
       "0  4.721050e+09      250.0      146.0    170.0\n",
       "1  5.905830e+08      534.0     1145.0   2878.0\n",
       "2  1.074147e+09      469.0      324.0    431.0\n",
       "3  1.472039e+09        NaN        NaN      NaN\n",
       "4  3.531421e+09        NaN        NaN      NaN"
      ]
     },
     "execution_count": 47,
     "metadata": {},
     "output_type": "execute_result"
    }
   ],
   "source": [
    "df_inst_prof.select_dtypes(include = ['float64']).head() #select only numeric columns "
   ]
  },
  {
   "cell_type": "code",
   "execution_count": 59,
   "metadata": {},
   "outputs": [
    {
     "data": {
      "image/png": "[encoded data removed]",
      "text/plain": [
       "<Figure size 864x1152 with 4 Axes>"
      ]
     },
     "metadata": {
      "needs_background": "light"
     },
     "output_type": "display_data"
    }
   ],
   "source": [
    "df_inst_prof.select_dtypes(include = ['float64']).hist(figsize=(12, 16), bins=35, xlabelsize=8, ylabelsize=8) # plot histograms of numeric columns\n",
    "plt.show()"
   ]
  },
  {
   "cell_type": "markdown",
   "metadata": {},
   "source": [
    "Poor data variability except for n_posts with a little variability"
   ]
  },
  {
   "cell_type": "markdown",
   "metadata": {},
   "source": [
    "## [RQ2] = Simple Insights\n",
    "#### Explore the dataset by finding simple insights regarding the profile and posts."
   ]
  },
  {
   "cell_type": "markdown",
   "source": [
    "##### Plot the number of posts for each profile in descending order."
   ],
   "metadata": {
    "collapsed": false
   }
  },
  {
   "cell_type": "code",
   "execution_count": 19,
   "metadata": {},
   "outputs": [
    {
     "data": {
      "text/html": [
       "<div>\n",
       "<style scoped>\n",
       "    .dataframe tbody tr th:only-of-type {\n",
       "        vertical-align: middle;\n",
       "    }\n",
       "\n",
       "    .dataframe tbody tr th {\n",
       "        vertical-align: top;\n",
       "    }\n",
       "\n",
       "    .dataframe thead th {\n",
       "        text-align: right;\n",
       "    }\n",
       "</style>\n",
       "<table border=\"1\" class=\"dataframe\">\n",
       "  <thead>\n",
       "    <tr style=\"text-align: right;\">\n",
       "      <th></th>\n",
       "      <th>sid</th>\n",
       "      <th>profile_id</th>\n",
       "      <th>profile_name</th>\n",
       "      <th>firstname_lastname</th>\n",
       "      <th>description</th>\n",
       "      <th>following</th>\n",
       "      <th>followers</th>\n",
       "      <th>n_posts</th>\n",
       "      <th>url</th>\n",
       "      <th>cts</th>\n",
       "      <th>is_business_account</th>\n",
       "    </tr>\n",
       "  </thead>\n",
       "  <tbody>\n",
       "    <tr>\n",
       "      <th>3990313</th>\n",
       "      <td>3661552</td>\n",
       "      <td>1.996648e+08</td>\n",
       "      <td>jasem33312</td>\n",
       "      <td>jasem33312</td>\n",
       "      <td>NaN</td>\n",
       "      <td>2.0</td>\n",
       "      <td>82049.0</td>\n",
       "      <td>183730.0</td>\n",
       "      <td>NaN</td>\n",
       "      <td>2019-06-30 19:14:19.780 -0400</td>\n",
       "      <td>False</td>\n",
       "    </tr>\n",
       "    <tr>\n",
       "      <th>2571453</th>\n",
       "      <td>3288809</td>\n",
       "      <td>8.563367e+09</td>\n",
       "      <td>koenigpic</td>\n",
       "      <td>Helperwait Studio</td>\n",
       "      <td>Веб сайты от идеи до запуска</td>\n",
       "      <td>4538.0</td>\n",
       "      <td>675.0</td>\n",
       "      <td>142428.0</td>\n",
       "      <td>vk.com/ru.helperwait</td>\n",
       "      <td>2019-05-07 00:14:06.799 -0400</td>\n",
       "      <td>True</td>\n",
       "    </tr>\n",
       "    <tr>\n",
       "      <th>4338921</th>\n",
       "      <td>3970193</td>\n",
       "      <td>1.273455e+09</td>\n",
       "      <td>rudyanto62</td>\n",
       "      <td>Rudyanto 王耀祝</td>\n",
       "      <td>NaN</td>\n",
       "      <td>164.0</td>\n",
       "      <td>1693.0</td>\n",
       "      <td>126340.0</td>\n",
       "      <td>NaN</td>\n",
       "      <td>2019-07-15 10:00:51.171 -0400</td>\n",
       "      <td>False</td>\n",
       "    </tr>\n",
       "    <tr>\n",
       "      <th>3942129</th>\n",
       "      <td>3621669</td>\n",
       "      <td>9.813508e+06</td>\n",
       "      <td>hometown_ni</td>\n",
       "      <td>AngelsCowboysLakers</td>\n",
       "      <td>All about live &amp; let live. Peace &amp; Harmony. La...</td>\n",
       "      <td>7488.0</td>\n",
       "      <td>1755.0</td>\n",
       "      <td>125220.0</td>\n",
       "      <td>NaN</td>\n",
       "      <td>2019-06-27 02:49:38.140 -0400</td>\n",
       "      <td>False</td>\n",
       "    </tr>\n",
       "    <tr>\n",
       "      <th>4219642</th>\n",
       "      <td>3851869</td>\n",
       "      <td>1.607309e+09</td>\n",
       "      <td>dwfitfiber_thailand</td>\n",
       "      <td>เห็นผลตั้งแต่เซ็ตแรกท้าลอง</td>\n",
       "      <td>✿รับตัวแทนรายได้ดีมาก\\n🏧 KTB l SCB l KBANK | B...</td>\n",
       "      <td>7490.0</td>\n",
       "      <td>44951.0</td>\n",
       "      <td>117262.0</td>\n",
       "      <td>bit.ly/2GdIYJl</td>\n",
       "      <td>2019-07-13 02:10:07.317 -0400</td>\n",
       "      <td>True</td>\n",
       "    </tr>\n",
       "    <tr>\n",
       "      <th>...</th>\n",
       "      <td>...</td>\n",
       "      <td>...</td>\n",
       "      <td>...</td>\n",
       "      <td>...</td>\n",
       "      <td>...</td>\n",
       "      <td>...</td>\n",
       "      <td>...</td>\n",
       "      <td>...</td>\n",
       "      <td>...</td>\n",
       "      <td>...</td>\n",
       "      <td>...</td>\n",
       "    </tr>\n",
       "    <tr>\n",
       "      <th>4509575</th>\n",
       "      <td>4184448</td>\n",
       "      <td>2.438073e+08</td>\n",
       "      <td>not_omeed</td>\n",
       "      <td>أوميد</td>\n",
       "      <td>NaN</td>\n",
       "      <td>NaN</td>\n",
       "      <td>NaN</td>\n",
       "      <td>NaN</td>\n",
       "      <td>NaN</td>\n",
       "      <td>2019-08-01 14:39:06.271 -0400</td>\n",
       "      <td>NaN</td>\n",
       "    </tr>\n",
       "    <tr>\n",
       "      <th>4509577</th>\n",
       "      <td>4184452</td>\n",
       "      <td>6.567796e+08</td>\n",
       "      <td>shak._n5</td>\n",
       "      <td>Shakil Hussain</td>\n",
       "      <td>NaN</td>\n",
       "      <td>NaN</td>\n",
       "      <td>NaN</td>\n",
       "      <td>NaN</td>\n",
       "      <td>NaN</td>\n",
       "      <td>2019-08-01 14:39:23.911 -0400</td>\n",
       "      <td>NaN</td>\n",
       "    </tr>\n",
       "    <tr>\n",
       "      <th>4509582</th>\n",
       "      <td>4184469</td>\n",
       "      <td>1.340704e+07</td>\n",
       "      <td>jornvlaeminck</td>\n",
       "      <td>Jorn Vlaeminck</td>\n",
       "      <td>NaN</td>\n",
       "      <td>NaN</td>\n",
       "      <td>NaN</td>\n",
       "      <td>NaN</td>\n",
       "      <td>NaN</td>\n",
       "      <td>2019-08-01 14:40:41.628 -0400</td>\n",
       "      <td>NaN</td>\n",
       "    </tr>\n",
       "    <tr>\n",
       "      <th>4509583</th>\n",
       "      <td>4184470</td>\n",
       "      <td>6.007354e+09</td>\n",
       "      <td>s_degol</td>\n",
       "      <td>Sanne Degol</td>\n",
       "      <td>NaN</td>\n",
       "      <td>NaN</td>\n",
       "      <td>NaN</td>\n",
       "      <td>NaN</td>\n",
       "      <td>NaN</td>\n",
       "      <td>2019-08-01 14:40:42.983 -0400</td>\n",
       "      <td>NaN</td>\n",
       "    </tr>\n",
       "    <tr>\n",
       "      <th>4509585</th>\n",
       "      <td>4184511</td>\n",
       "      <td>2.088094e+09</td>\n",
       "      <td>arnaubassols_</td>\n",
       "      <td>Arnau Bassols Noguer</td>\n",
       "      <td>NaN</td>\n",
       "      <td>NaN</td>\n",
       "      <td>NaN</td>\n",
       "      <td>NaN</td>\n",
       "      <td>NaN</td>\n",
       "      <td>2019-08-01 14:42:30.055 -0400</td>\n",
       "      <td>NaN</td>\n",
       "    </tr>\n",
       "  </tbody>\n",
       "</table>\n",
       "<p>4509586 rows × 11 columns</p>\n",
       "</div>"
      ],
      "text/plain": [
       "             sid    profile_id         profile_name  \\\n",
       "3990313  3661552  1.996648e+08           jasem33312   \n",
       "2571453  3288809  8.563367e+09            koenigpic   \n",
       "4338921  3970193  1.273455e+09           rudyanto62   \n",
       "3942129  3621669  9.813508e+06          hometown_ni   \n",
       "4219642  3851869  1.607309e+09  dwfitfiber_thailand   \n",
       "...          ...           ...                  ...   \n",
       "4509575  4184448  2.438073e+08            not_omeed   \n",
       "4509577  4184452  6.567796e+08             shak._n5   \n",
       "4509582  4184469  1.340704e+07        jornvlaeminck   \n",
       "4509583  4184470  6.007354e+09              s_degol   \n",
       "4509585  4184511  2.088094e+09        arnaubassols_   \n",
       "\n",
       "                 firstname_lastname  \\\n",
       "3990313                  jasem33312   \n",
       "2571453           Helperwait Studio   \n",
       "4338921                Rudyanto 王耀祝   \n",
       "3942129         AngelsCowboysLakers   \n",
       "4219642  เห็นผลตั้งแต่เซ็ตแรกท้าลอง   \n",
       "...                             ...   \n",
       "4509575                       أوميد   \n",
       "4509577              Shakil Hussain   \n",
       "4509582              Jorn Vlaeminck   \n",
       "4509583                 Sanne Degol   \n",
       "4509585        Arnau Bassols Noguer   \n",
       "\n",
       "                                               description  following  \\\n",
       "3990313                                                NaN        2.0   \n",
       "2571453                       Веб сайты от идеи до запуска     4538.0   \n",
       "4338921                                                NaN      164.0   \n",
       "3942129  All about live & let live. Peace & Harmony. La...     7488.0   \n",
       "4219642  ✿รับตัวแทนรายได้ดีมาก\\n🏧 KTB l SCB l KBANK | B...     7490.0   \n",
       "...                                                    ...        ...   \n",
       "4509575                                                NaN        NaN   \n",
       "4509577                                                NaN        NaN   \n",
       "4509582                                                NaN        NaN   \n",
       "4509583                                                NaN        NaN   \n",
       "4509585                                                NaN        NaN   \n",
       "\n",
       "         followers   n_posts                   url  \\\n",
       "3990313    82049.0  183730.0                   NaN   \n",
       "2571453      675.0  142428.0  vk.com/ru.helperwait   \n",
       "4338921     1693.0  126340.0                   NaN   \n",
       "3942129     1755.0  125220.0                   NaN   \n",
       "4219642    44951.0  117262.0        bit.ly/2GdIYJl   \n",
       "...            ...       ...                   ...   \n",
       "4509575        NaN       NaN                   NaN   \n",
       "4509577        NaN       NaN                   NaN   \n",
       "4509582        NaN       NaN                   NaN   \n",
       "4509583        NaN       NaN                   NaN   \n",
       "4509585        NaN       NaN                   NaN   \n",
       "\n",
       "                                   cts is_business_account  \n",
       "3990313  2019-06-30 19:14:19.780 -0400               False  \n",
       "2571453  2019-05-07 00:14:06.799 -0400                True  \n",
       "4338921  2019-07-15 10:00:51.171 -0400               False  \n",
       "3942129  2019-06-27 02:49:38.140 -0400               False  \n",
       "4219642  2019-07-13 02:10:07.317 -0400                True  \n",
       "...                                ...                 ...  \n",
       "4509575  2019-08-01 14:39:06.271 -0400                 NaN  \n",
       "4509577  2019-08-01 14:39:23.911 -0400                 NaN  \n",
       "4509582  2019-08-01 14:40:41.628 -0400                 NaN  \n",
       "4509583  2019-08-01 14:40:42.983 -0400                 NaN  \n",
       "4509585  2019-08-01 14:42:30.055 -0400                 NaN  \n",
       "\n",
       "[4509586 rows x 11 columns]"
      ]
     },
     "execution_count": 19,
     "metadata": {},
     "output_type": "execute_result"
    }
   ],
   "source": [
    "df_inst_prof.groupby([\"profile_id\"], dropna=True)['n_posts'].sum()\n",
    "df_inst_prof.sort_values(by='n_posts', ascending = False)"
   ]
  },
  {
   "cell_type": "code",
   "execution_count": 5,
   "outputs": [
    {
     "data": {
      "text/plain": "<Figure size 432x288 with 1 Axes>",
      "image/png": "[encoded data removed]"
     },
     "metadata": {},
     "output_type": "display_data"
    }
   ],
   "source": [
    "n_posts = df_inst_prof.n_posts.dropna()\n",
    "\n",
    "plt.plot(np.sort(n_posts)[::-1]);\n",
    "plt.title('Descending order of Number of posts for each\\n profile')\n",
    "plt.ylabel('Log (n posts)')\n",
    "plt.xlabel('Instagram Profiles')\n",
    "plt.yscale('log')"
   ],
   "metadata": {
    "collapsed": false
   }
  },
  {
   "cell_type": "code",
   "execution_count": 2,
   "metadata": {},
   "outputs": [],
   "source": [
    "post_analysis= pd.read_csv('instagram_posts.csv', sep=\"\\t\",  usecols=['numbr_likes','number_comments'])"
   ]
  },
  {
   "cell_type": "markdown",
   "source": [
    "##### What posts have the highest number of likes?"
   ],
   "metadata": {
    "collapsed": false
   }
  },
  {
   "cell_type": "code",
   "execution_count": 3,
   "metadata": {},
   "outputs": [
    {
     "data": {
      "text/plain": "19624085    8822952.0\n19623988    5447066.0\n19624082    5116398.0\n19623986    4271466.0\n39701024    4264745.0\n6293907     3586546.0\n19624086    3558599.0\n19802016    3533326.0\n30850564    3340297.0\n39812576    3311246.0\n17474533    3201436.0\n19624088    3198242.0\n37248165    3091301.0\n30568676    2973661.0\n19623987    2900455.0\nName: numbr_likes, dtype: float64"
     },
     "execution_count": 3,
     "metadata": {},
     "output_type": "execute_result"
    }
   ],
   "source": [
    "post_analysis['numbr_likes'].sort_values(ascending=False).head(15)"
   ]
  },
  {
   "cell_type": "markdown",
   "source": [
    "Note!\n",
    "On the left the n. of the row, on the left the n. of likes"
   ],
   "metadata": {
    "collapsed": false
   }
  },
  {
   "cell_type": "markdown",
   "source": [
    "##### What posts have the most and the highest number of comments?"
   ],
   "metadata": {
    "collapsed": false
   }
  },
  {
   "cell_type": "code",
   "execution_count": 4,
   "metadata": {},
   "outputs": [
    {
     "data": {
      "text/plain": "41873060    488953.0\n12164781    313997.0\n33261751    257488.0\n11149127    214365.0\n9383817     189888.0\n5427268     180635.0\n25257169    173988.0\n6220011     170836.0\n31689573    166919.0\n14257307    166198.0\n19624085    165886.0\n30850564    149489.0\n27276611    146770.0\n11149135    145806.0\n28934415    143614.0\nName: number_comments, dtype: float64"
     },
     "execution_count": 4,
     "metadata": {},
     "output_type": "execute_result"
    }
   ],
   "source": [
    "post_analysis['number_comments'].sort_values(ascending=False).head(15)"
   ]
  },
  {
   "cell_type": "markdown",
   "source": [
    "##### What posts have the most and the least number of comments?"
   ],
   "metadata": {
    "collapsed": false
   }
  },
  {
   "cell_type": "code",
   "execution_count": 5,
   "metadata": {},
   "outputs": [
    {
     "data": {
      "text/plain": "0           0.0\n13108581    0.0\n13108584    0.0\n13108585    0.0\n13108586    0.0\n13108587    0.0\n13108588    0.0\n13108589    0.0\n13108590    0.0\n13108591    0.0\n13108593    0.0\n13108594    0.0\n13108596    0.0\n13108597    0.0\n13108580    0.0\nName: number_comments, dtype: float64"
     },
     "execution_count": 5,
     "metadata": {},
     "output_type": "execute_result"
    }
   ],
   "source": [
    "post_analysis['number_comments'].sort_values(ascending=True).head(15)"
   ]
  },
  {
   "cell_type": "markdown",
   "source": [
    "##### How many posts include tagged locations, and how many do not? Show it using an appropriate chart and comment your results."
   ],
   "metadata": {
    "collapsed": false
   }
  },
  {
   "cell_type": "code",
   "execution_count": 9,
   "outputs": [
    {
     "data": {
      "text/plain": "<Figure size 432x288 with 1 Axes>",
      "image/png": "[encoded data removed]"
     },
     "metadata": {},
     "output_type": "display_data"
    }
   ],
   "source": [
    "tag_loc = 0\n",
    "no_loc = 0\n",
    "\n",
    "for chunk in pd.read_csv('instagram_posts.csv', sep='\\t', chunksize=500000, usecols=['location_id']):\n",
    "    no_loc += chunk.location_id.isna().sum()\n",
    "    tag_loc += len(chunk)                           # Using chunks we just count the missing values in location_id column\n",
    "\n",
    "\n",
    "plt.pie([tag_loc - no_loc, no_loc], labels=['Tagged Location', 'Without Location'], shadow=True, explode=(0, .1), autopct='%1.1f%%', colors = ['red', 'pink'])\n",
    "plt.title('Posts with\\without locations tag')\n",
    "plt.show()"
   ],
   "metadata": {
    "collapsed": false
   }
  },
  {
   "cell_type": "markdown",
   "source": [
    "The pie chart clearly tells us that the majority of posts in our dataset have tagged location (69,6%), while still a great portion of 30,4% isn't localized."
   ],
   "metadata": {
    "collapsed": false
   }
  },
  {
   "cell_type": "markdown",
   "source": [
    "##### How many posts include only photos? How many also have videos?"
   ],
   "metadata": {
    "collapsed": false
   }
  },
  {
   "cell_type": "code",
   "execution_count": 6,
   "metadata": {},
   "outputs": [],
   "source": [
    "post_analysis_1= pd.read_csv('instagram_posts.csv', sep=\"\\t\",  usecols=['post_type'])\n",
    "photos = post_analysis_1.loc[post_analysis_1['post_type'] == 1, 'post_type'].sum()\n",
    "video_photos = post_analysis_1.loc[post_analysis_1['post_type'] > 1, 'post_type'].sum()"
   ]
  },
  {
   "cell_type": "code",
   "execution_count": 7,
   "metadata": {},
   "outputs": [
    {
     "data": {
      "text/plain": "<Figure size 432x288 with 1 Axes>",
      "image/png": "[encoded data removed]"
     },
     "metadata": {},
     "output_type": "display_data"
    }
   ],
   "source": [
    "df = pd.DataFrame({'posts': [photos, video_photos],\n",
    "                   'index': ['Only Photos', 'Photos and Videos']})\n",
    "\n",
    "plot = df.plot.bar(x='index', y='posts', rot=0, color= 'green')"
   ]
  },
  {
   "cell_type": "code",
   "execution_count": 12,
   "outputs": [
    {
     "name": "stdout",
     "output_type": "stream",
     "text": [
      "Percentage of business accounts in the dataset is equal to 24.8%\n",
      "Percentage of non business accounts in the dataset is equal to 75.2%\n"
     ]
    }
   ],
   "source": [
    "profiles = df_inst_prof[['is_business_account','profile_name']]\n",
    "\n",
    "Business =len(profiles[profiles['is_business_account'] == True])\n",
    "\n",
    "#count how many NOT business account\n",
    "Not_business = len(df_inst_prof[df_inst_prof['is_business_account'] == False])\n",
    "\n",
    "total_account = Business + Not_business\n",
    "yes_perc='{:.1%}'.format(Business/total_account)\n",
    "no_perc='{:.1%}'.format(Not_business/total_account)\n",
    "print('Percentage of business accounts in the dataset is equal to '+ yes_perc)\n",
    "print('Percentage of non business accounts in the dataset is equal to '+ no_perc)"
   ],
   "metadata": {
    "collapsed": false
   }
  },
  {
   "cell_type": "markdown",
   "metadata": {},
   "source": [
    "The majority of users in this dataset are using Instangram for personal entertainment rather than as source of profit"
   ]
  },
  {
   "cell_type": "markdown",
   "metadata": {},
   "source": [
    "## [RQ3] = Most common publishing time\n",
    "#### Understand the most common times in which users publish their posts"
   ]
  },
  {
   "cell_type": "markdown",
   "source": [
    "##### What is the most common time in which users publish their posts?"
   ],
   "metadata": {
    "collapsed": false
   }
  },
  {
   "cell_type": "code",
   "execution_count": 50,
   "metadata": {},
   "outputs": [],
   "source": [
    "post_cts_analysis = pd.read_csv('instagram_posts.csv', sep=\"\\t\",  usecols=['profile_id','cts',\"number_comments\",\"numbr_likes\"])"
   ]
  },
  {
   "cell_type": "code",
   "execution_count": 12,
   "metadata": {},
   "outputs": [
    {
     "name": "stdout",
     "output_type": "stream",
     "text": [
      "Users usually publish their posts at 21:00:09\n"
     ]
    }
   ],
   "source": [
    "time_mode = pd.to_datetime(post_cts_analysis['cts']).dt.strftime('%H:%M:%S').mode() # get requested time format \n",
    "\n",
    "print('Users usually publish their posts at {}'.format(time_mode[0]))"
   ]
  },
  {
   "cell_type": "markdown",
   "source": [
    "##### Create a function that receives a time intervals list as a parameter and returns a plot with the number of posts for each given interval."
   ],
   "metadata": {
    "collapsed": false
   }
  },
  {
   "cell_type": "code",
   "execution_count": 34,
   "outputs": [],
   "source": [
    "def plot_intervals(data, time_intervals):\n",
    "    time = pd.DataFrame(pd.to_datetime(data.cts))\n",
    "    time.set_index(pd.DatetimeIndex(time.cts), inplace=True)\n",
    "    calculation = 0\n",
    "    values = pd.DataFrame()\n",
    "    for interval in time_intervals:\n",
    "        initial_time, final_time = interval\n",
    "        tot = time.between_time(initial_time, final_time).count()\n",
    "        tot = int(tot[0])\n",
    "        print([interval],tot)\n",
    "        result = pd.DataFrame({'time interval (start, end)' : [interval], 'total posts' : tot})\n",
    "        values = values.append(result)\n",
    "        calculation += tot\n",
    "    sns.set()\n",
    "\n",
    "    ax = values.plot(figsize=(14,8), kind='bar', color = 'red', zorder=3)\n",
    "    a = range(0, 6)\n",
    "    plt.xticks(a, time_intervals, rotation = 30)\n",
    "    plt.xlabel(\"Time Intervals\", fontsize=14, labelpad=20)\n",
    "    plt.ylabel(\"N of posts\", fontsize=14, labelpad=20)\n",
    "    plt.title(\"Number of posts for each time interval\", fontsize=18)\n",
    "    plt.show()"
   ],
   "metadata": {
    "collapsed": false
   }
  },
  {
   "cell_type": "code",
   "execution_count": 35,
   "metadata": {
    "scrolled": true
   },
   "outputs": [
    {
     "name": "stdout",
     "output_type": "stream",
     "text": [
      "[('06:00:00', '10:59:59')] 6378572\n",
      "[('11:00:00', '13:59:59')] 5614715\n",
      "[('14:00:00', '16:59:59')] 6763037\n",
      "[('17:00:00', '19:59:59')] 7409907\n",
      "[('20:00:00', '23:59:59')] 8915794\n",
      "[('00:00:00', '02:59:59')] 4213617\n",
      "[('03:00:00', '05:59:59')] 3411223\n"
     ]
    },
    {
     "data": {
      "text/plain": "<Figure size 1008x576 with 1 Axes>",
      "image/png": "[encoded data removed]"
     },
     "metadata": {},
     "output_type": "display_data"
    }
   ],
   "source": [
    "timing= [('06:00:00', '10:59:59'),('11:00:00', '13:59:59'), \n",
    "         ('14:00:00', '16:59:59'), ('17:00:00', '19:59:59'), \n",
    "         ('20:00:00', '23:59:59'), ('00:00:00', '02:59:59'), ('03:00:00','05:59:59')]\n",
    "\n",
    "plot_intervals(post_cts_analysis, timing)"
   ]
  },
  {
   "cell_type": "markdown",
   "source": [
    "Posts are mainly published on Instagram between 20:00 and Midnight time interval."
   ],
   "metadata": {
    "collapsed": false
   }
  },
  {
   "cell_type": "markdown",
   "metadata": {},
   "source": [
    "## [RQ4] = Analysis Enhancement"
   ]
  },
  {
   "cell_type": "markdown",
   "source": [
    "##### Write a function that, given a profile_id, will be able to return the posts that belong to the given profile_id."
   ],
   "metadata": {
    "collapsed": false
   }
  },
  {
   "cell_type": "code",
   "execution_count": 37,
   "metadata": {},
   "outputs": [],
   "source": [
    "def get_post(profile_id,posts_df):\n",
    "    return posts_df[posts_df.profile_id == profile_id]"
   ]
  },
  {
   "cell_type": "markdown",
   "source": [
    "##### Write another function that, given an input n (an integer), will return the posts that belong to the n top posted profiles (top n profiles that have posted the highest number of posts) that their data is available in the profile.csv using the previously written function."
   ],
   "metadata": {
    "collapsed": false
   }
  },
  {
   "cell_type": "code",
   "execution_count": 26,
   "outputs": [],
   "source": [
    "def posts_top_profiles(n,posts_df,profile_df):\n",
    "    top_posted_profiles = profile_df.sort_values('n_posts',ascending=False).profile_id.head(n+1)\n",
    "    output_posts = []\n",
    "    for id in top_posted_profiles:\n",
    "        output_posts.append(get_post(id,posts_df))\n",
    "    result = pd.concat(output_posts)\n",
    "    return result"
   ],
   "metadata": {
    "collapsed": false
   }
  },
  {
   "cell_type": "code",
   "execution_count": 27,
   "outputs": [
    {
     "data": {
      "text/plain": "            profile_id                      cts  numbr_likes  number_comments\n9592952   1.996648e+08  2018-12-02 03:03:33.000          0.0              0.0\n9592953   1.996648e+08  2018-12-02 03:03:17.000          0.0              0.0\n9592954   1.996648e+08  2016-03-07 16:28:50.000         27.0              0.0\n9592955   1.996648e+08  2015-05-18 11:21:27.000         28.0              0.0\n9592956   1.996648e+08  2018-12-09 13:33:47.000          1.0              0.0\n...                ...                      ...          ...              ...\n40437904  1.701679e+09  2019-05-11 08:03:24.000          0.0              0.0\n40996459  1.701679e+09  2019-05-23 06:41:49.000          1.0              0.0\n41291564  1.701679e+09  2019-05-20 07:51:12.000          1.0              0.0\n42357392  1.701679e+09  2019-05-22 08:54:51.000          1.0              0.0\n42518438  1.701679e+09  2019-04-07 17:45:34.000          0.0              0.0\n\n[432 rows x 4 columns]",
      "text/html": "<div>\n<style scoped>\n    .dataframe tbody tr th:only-of-type {\n        vertical-align: middle;\n    }\n\n    .dataframe tbody tr th {\n        vertical-align: top;\n    }\n\n    .dataframe thead th {\n        text-align: right;\n    }\n</style>\n<table border=\"1\" class=\"dataframe\">\n  <thead>\n    <tr style=\"text-align: right;\">\n      <th></th>\n      <th>profile_id</th>\n      <th>cts</th>\n      <th>numbr_likes</th>\n      <th>number_comments</th>\n    </tr>\n  </thead>\n  <tbody>\n    <tr>\n      <th>9592952</th>\n      <td>1.996648e+08</td>\n      <td>2018-12-02 03:03:33.000</td>\n      <td>0.0</td>\n      <td>0.0</td>\n    </tr>\n    <tr>\n      <th>9592953</th>\n      <td>1.996648e+08</td>\n      <td>2018-12-02 03:03:17.000</td>\n      <td>0.0</td>\n      <td>0.0</td>\n    </tr>\n    <tr>\n      <th>9592954</th>\n      <td>1.996648e+08</td>\n      <td>2016-03-07 16:28:50.000</td>\n      <td>27.0</td>\n      <td>0.0</td>\n    </tr>\n    <tr>\n      <th>9592955</th>\n      <td>1.996648e+08</td>\n      <td>2015-05-18 11:21:27.000</td>\n      <td>28.0</td>\n      <td>0.0</td>\n    </tr>\n    <tr>\n      <th>9592956</th>\n      <td>1.996648e+08</td>\n      <td>2018-12-09 13:33:47.000</td>\n      <td>1.0</td>\n      <td>0.0</td>\n    </tr>\n    <tr>\n      <th>...</th>\n      <td>...</td>\n      <td>...</td>\n      <td>...</td>\n      <td>...</td>\n    </tr>\n    <tr>\n      <th>40437904</th>\n      <td>1.701679e+09</td>\n      <td>2019-05-11 08:03:24.000</td>\n      <td>0.0</td>\n      <td>0.0</td>\n    </tr>\n    <tr>\n      <th>40996459</th>\n      <td>1.701679e+09</td>\n      <td>2019-05-23 06:41:49.000</td>\n      <td>1.0</td>\n      <td>0.0</td>\n    </tr>\n    <tr>\n      <th>41291564</th>\n      <td>1.701679e+09</td>\n      <td>2019-05-20 07:51:12.000</td>\n      <td>1.0</td>\n      <td>0.0</td>\n    </tr>\n    <tr>\n      <th>42357392</th>\n      <td>1.701679e+09</td>\n      <td>2019-05-22 08:54:51.000</td>\n      <td>1.0</td>\n      <td>0.0</td>\n    </tr>\n    <tr>\n      <th>42518438</th>\n      <td>1.701679e+09</td>\n      <td>2019-04-07 17:45:34.000</td>\n      <td>0.0</td>\n      <td>0.0</td>\n    </tr>\n  </tbody>\n</table>\n<p>432 rows × 4 columns</p>\n</div>"
     },
     "metadata": {},
     "output_type": "display_data"
    }
   ],
   "source": [
    "top_posted = df_inst_prof.sort_values('n_posts',ascending=False).profile_id.head(11)\n",
    "display(posts_top_profiles(10,post_cts_analysis,df_inst_prof))"
   ],
   "metadata": {
    "collapsed": false
   }
  },
  {
   "cell_type": "markdown",
   "source": [
    "##### What is the average number of \"likes\" and comments of the top 10 profiles with the highest number of posts which their information is available in profile.csv?"
   ],
   "metadata": {
    "collapsed": false
   }
  },
  {
   "cell_type": "code",
   "execution_count": 30,
   "outputs": [
    {
     "data": {
      "text/plain": "              numbr_likes  number_comments\nprofile_id                                \n9.813508e+06     0.296296         0.000000\n1.996648e+08     7.666667         0.000000\n2.181730e+08     0.400000         0.040000\n2.855497e+08     3.921875         0.000000\n1.087614e+09     2.026316         0.184211\n1.273455e+09     2.960000         0.040000\n1.603890e+09     6.477612         0.044776\n1.607309e+09     1.540541         0.000000\n1.701679e+09     1.447368         0.000000\n8.563367e+09     0.000000         0.000000",
      "text/html": "<div>\n<style scoped>\n    .dataframe tbody tr th:only-of-type {\n        vertical-align: middle;\n    }\n\n    .dataframe tbody tr th {\n        vertical-align: top;\n    }\n\n    .dataframe thead th {\n        text-align: right;\n    }\n</style>\n<table border=\"1\" class=\"dataframe\">\n  <thead>\n    <tr style=\"text-align: right;\">\n      <th></th>\n      <th>numbr_likes</th>\n      <th>number_comments</th>\n    </tr>\n    <tr>\n      <th>profile_id</th>\n      <th></th>\n      <th></th>\n    </tr>\n  </thead>\n  <tbody>\n    <tr>\n      <th>9.813508e+06</th>\n      <td>0.296296</td>\n      <td>0.000000</td>\n    </tr>\n    <tr>\n      <th>1.996648e+08</th>\n      <td>7.666667</td>\n      <td>0.000000</td>\n    </tr>\n    <tr>\n      <th>2.181730e+08</th>\n      <td>0.400000</td>\n      <td>0.040000</td>\n    </tr>\n    <tr>\n      <th>2.855497e+08</th>\n      <td>3.921875</td>\n      <td>0.000000</td>\n    </tr>\n    <tr>\n      <th>1.087614e+09</th>\n      <td>2.026316</td>\n      <td>0.184211</td>\n    </tr>\n    <tr>\n      <th>1.273455e+09</th>\n      <td>2.960000</td>\n      <td>0.040000</td>\n    </tr>\n    <tr>\n      <th>1.603890e+09</th>\n      <td>6.477612</td>\n      <td>0.044776</td>\n    </tr>\n    <tr>\n      <th>1.607309e+09</th>\n      <td>1.540541</td>\n      <td>0.000000</td>\n    </tr>\n    <tr>\n      <th>1.701679e+09</th>\n      <td>1.447368</td>\n      <td>0.000000</td>\n    </tr>\n    <tr>\n      <th>8.563367e+09</th>\n      <td>0.000000</td>\n      <td>0.000000</td>\n    </tr>\n  </tbody>\n</table>\n</div>"
     },
     "execution_count": 30,
     "metadata": {},
     "output_type": "execute_result"
    }
   ],
   "source": [
    "posts_top_profiles(10,post_cts_analysis,df_inst_prof).groupby(\"profile_id\")[['numbr_likes','number_comments']].mean()"
   ],
   "metadata": {
    "collapsed": false
   }
  },
  {
   "cell_type": "markdown",
   "source": [
    "##### Plot the number of posts that these top 10 profiles have sent on Instagram in the given interval in question RQ3.Interpret the resulting chart. List with cts and posts of the top 10 profiles"
   ],
   "metadata": {
    "collapsed": false
   }
  },
  {
   "cell_type": "code",
   "execution_count": 47,
   "outputs": [
    {
     "ename": "TypeError",
     "evalue": "Can only merge Series or DataFrame objects, a <class 'str'> was passed",
     "output_type": "error",
     "traceback": [
      "\u001B[1;31m---------------------------------------------------------------------------\u001B[0m",
      "\u001B[1;31mTypeError\u001B[0m                                 Traceback (most recent call last)",
      "\u001B[1;32m~\\AppData\\Local\\Temp\\ipykernel_28048\\1020873027.py\u001B[0m in \u001B[0;36m<module>\u001B[1;34m\u001B[0m\n\u001B[0;32m      7\u001B[0m \u001B[0mlist_10\u001B[0m \u001B[1;33m=\u001B[0m \u001B[0mpd\u001B[0m\u001B[1;33m.\u001B[0m\u001B[0mDataFrame\u001B[0m\u001B[1;33m(\u001B[0m\u001B[0mcolumns\u001B[0m \u001B[1;33m=\u001B[0m \u001B[1;33m[\u001B[0m\u001B[1;34m\"profile_id\"\u001B[0m\u001B[1;33m,\u001B[0m\u001B[1;34m\"cts\"\u001B[0m\u001B[1;33m]\u001B[0m\u001B[1;33m)\u001B[0m\u001B[1;33m\u001B[0m\u001B[1;33m\u001B[0m\u001B[0m\n\u001B[0;32m      8\u001B[0m \u001B[1;32mfor\u001B[0m \u001B[0mchunk\u001B[0m \u001B[1;32min\u001B[0m \u001B[0mpost_cts_analysis\u001B[0m\u001B[1;33m:\u001B[0m\u001B[1;33m\u001B[0m\u001B[1;33m\u001B[0m\u001B[0m\n\u001B[1;32m----> 9\u001B[1;33m     \u001B[0mchunk_in_common\u001B[0m \u001B[1;33m=\u001B[0m \u001B[0mpd\u001B[0m\u001B[1;33m.\u001B[0m\u001B[0mmerge\u001B[0m\u001B[1;33m(\u001B[0m\u001B[0mchunk\u001B[0m\u001B[1;33m,\u001B[0m\u001B[0mTop10\u001B[0m\u001B[1;33m)\u001B[0m\u001B[1;33m\u001B[0m\u001B[1;33m\u001B[0m\u001B[0m\n\u001B[0m\u001B[0;32m     10\u001B[0m     \u001B[0mlist_10\u001B[0m \u001B[1;33m=\u001B[0m \u001B[0mpd\u001B[0m\u001B[1;33m.\u001B[0m\u001B[0mconcat\u001B[0m\u001B[1;33m(\u001B[0m\u001B[1;33m[\u001B[0m\u001B[0mlist_10\u001B[0m\u001B[1;33m,\u001B[0m\u001B[0mchunk_in_common\u001B[0m\u001B[1;33m]\u001B[0m\u001B[1;33m)\u001B[0m\u001B[1;33m\u001B[0m\u001B[1;33m\u001B[0m\u001B[0m\n\u001B[0;32m     11\u001B[0m \u001B[0mlist_10\u001B[0m\u001B[1;33m\u001B[0m\u001B[1;33m\u001B[0m\u001B[0m\n",
      "\u001B[1;32m~\\anaconda3\\lib\\site-packages\\pandas\\core\\reshape\\merge.py\u001B[0m in \u001B[0;36mmerge\u001B[1;34m(left, right, how, on, left_on, right_on, left_index, right_index, sort, suffixes, copy, indicator, validate)\u001B[0m\n\u001B[0;32m    105\u001B[0m     \u001B[0mvalidate\u001B[0m\u001B[1;33m:\u001B[0m \u001B[0mstr\u001B[0m \u001B[1;33m|\u001B[0m \u001B[1;32mNone\u001B[0m \u001B[1;33m=\u001B[0m \u001B[1;32mNone\u001B[0m\u001B[1;33m,\u001B[0m\u001B[1;33m\u001B[0m\u001B[1;33m\u001B[0m\u001B[0m\n\u001B[0;32m    106\u001B[0m ) -> DataFrame:\n\u001B[1;32m--> 107\u001B[1;33m     op = _MergeOperation(\n\u001B[0m\u001B[0;32m    108\u001B[0m         \u001B[0mleft\u001B[0m\u001B[1;33m,\u001B[0m\u001B[1;33m\u001B[0m\u001B[1;33m\u001B[0m\u001B[0m\n\u001B[0;32m    109\u001B[0m         \u001B[0mright\u001B[0m\u001B[1;33m,\u001B[0m\u001B[1;33m\u001B[0m\u001B[1;33m\u001B[0m\u001B[0m\n",
      "\u001B[1;32m~\\anaconda3\\lib\\site-packages\\pandas\\core\\reshape\\merge.py\u001B[0m in \u001B[0;36m__init__\u001B[1;34m(self, left, right, how, on, left_on, right_on, axis, left_index, right_index, sort, suffixes, copy, indicator, validate)\u001B[0m\n\u001B[0;32m    626\u001B[0m         \u001B[0mvalidate\u001B[0m\u001B[1;33m:\u001B[0m \u001B[0mstr\u001B[0m \u001B[1;33m|\u001B[0m \u001B[1;32mNone\u001B[0m \u001B[1;33m=\u001B[0m \u001B[1;32mNone\u001B[0m\u001B[1;33m,\u001B[0m\u001B[1;33m\u001B[0m\u001B[1;33m\u001B[0m\u001B[0m\n\u001B[0;32m    627\u001B[0m     ):\n\u001B[1;32m--> 628\u001B[1;33m         \u001B[0m_left\u001B[0m \u001B[1;33m=\u001B[0m \u001B[0m_validate_operand\u001B[0m\u001B[1;33m(\u001B[0m\u001B[0mleft\u001B[0m\u001B[1;33m)\u001B[0m\u001B[1;33m\u001B[0m\u001B[1;33m\u001B[0m\u001B[0m\n\u001B[0m\u001B[0;32m    629\u001B[0m         \u001B[0m_right\u001B[0m \u001B[1;33m=\u001B[0m \u001B[0m_validate_operand\u001B[0m\u001B[1;33m(\u001B[0m\u001B[0mright\u001B[0m\u001B[1;33m)\u001B[0m\u001B[1;33m\u001B[0m\u001B[1;33m\u001B[0m\u001B[0m\n\u001B[0;32m    630\u001B[0m         \u001B[0mself\u001B[0m\u001B[1;33m.\u001B[0m\u001B[0mleft\u001B[0m \u001B[1;33m=\u001B[0m \u001B[0mself\u001B[0m\u001B[1;33m.\u001B[0m\u001B[0morig_left\u001B[0m \u001B[1;33m=\u001B[0m \u001B[0m_left\u001B[0m\u001B[1;33m\u001B[0m\u001B[1;33m\u001B[0m\u001B[0m\n",
      "\u001B[1;32m~\\anaconda3\\lib\\site-packages\\pandas\\core\\reshape\\merge.py\u001B[0m in \u001B[0;36m_validate_operand\u001B[1;34m(obj)\u001B[0m\n\u001B[0;32m   2283\u001B[0m             \u001B[1;32mreturn\u001B[0m \u001B[0mobj\u001B[0m\u001B[1;33m.\u001B[0m\u001B[0mto_frame\u001B[0m\u001B[1;33m(\u001B[0m\u001B[1;33m)\u001B[0m\u001B[1;33m\u001B[0m\u001B[1;33m\u001B[0m\u001B[0m\n\u001B[0;32m   2284\u001B[0m     \u001B[1;32melse\u001B[0m\u001B[1;33m:\u001B[0m\u001B[1;33m\u001B[0m\u001B[1;33m\u001B[0m\u001B[0m\n\u001B[1;32m-> 2285\u001B[1;33m         raise TypeError(\n\u001B[0m\u001B[0;32m   2286\u001B[0m             \u001B[1;34mf\"Can only merge Series or DataFrame objects, a {type(obj)} was passed\"\u001B[0m\u001B[1;33m\u001B[0m\u001B[1;33m\u001B[0m\u001B[0m\n\u001B[0;32m   2287\u001B[0m         )\n",
      "\u001B[1;31mTypeError\u001B[0m: Can only merge Series or DataFrame objects, a <class 'str'> was passed"
     ]
    }
   ],
   "source": [
    "a = df_inst_prof.sort_values(\"n_posts\",ascending = False)      #create a table with profile_id,sorted by \"n_posts\"\n",
    "Top10 = a.head(11)  #obtained the top 10 profiles with more posts\n",
    "\n",
    "Top10.reset_index().drop([\"index\"],axis = 1)\n",
    "Top_10=Top10.drop([\"n_posts\"],axis=1)\n",
    "\n",
    "list_10 = pd.DataFrame(columns = [\"profile_id\",\"cts\"])\n",
    "\n",
    "for chunk in post_cts_analysis:\n",
    "    chunk_in_common = pd.merge(chunk,Top_10)\n",
    "    list_10 = pd.concat([list_10,chunk_in_common])\n",
    "list_10"
   ],
   "metadata": {
    "collapsed": false
   }
  },
  {
   "cell_type": "code",
   "execution_count": null,
   "outputs": [],
   "source": [
    "plot_intervals(list_10, timing)"
   ],
   "metadata": {
    "collapsed": false
   }
  },
  {
   "cell_type": "code",
   "execution_count": 49,
   "metadata": {},
   "outputs": [
    {
     "data": {
      "text/plain": "Empty DataFrame\nColumns: [profile_id, cts, numbr_likes, number_comments, sid, profile_name, firstname_lastname, description, following, followers, url, is_business_account]\nIndex: []",
      "text/html": "<div>\n<style scoped>\n    .dataframe tbody tr th:only-of-type {\n        vertical-align: middle;\n    }\n\n    .dataframe tbody tr th {\n        vertical-align: top;\n    }\n\n    .dataframe thead th {\n        text-align: right;\n    }\n</style>\n<table border=\"1\" class=\"dataframe\">\n  <thead>\n    <tr style=\"text-align: right;\">\n      <th></th>\n      <th>profile_id</th>\n      <th>cts</th>\n      <th>numbr_likes</th>\n      <th>number_comments</th>\n      <th>sid</th>\n      <th>profile_name</th>\n      <th>firstname_lastname</th>\n      <th>description</th>\n      <th>following</th>\n      <th>followers</th>\n      <th>url</th>\n      <th>is_business_account</th>\n    </tr>\n  </thead>\n  <tbody>\n  </tbody>\n</table>\n</div>"
     },
     "execution_count": 49,
     "metadata": {},
     "output_type": "execute_result"
    }
   ],
   "source": [
    "pd.merge(post_cts_analysis,Top_10)"
   ]
  },
  {
   "cell_type": "code",
   "execution_count": 51,
   "metadata": {},
   "outputs": [
    {
     "data": {
      "text/plain": "             sid    profile_id          profile_name  \\\n3990313  3661552  1.996648e+08            jasem33312   \n2571453  3288809  8.563367e+09             koenigpic   \n4338921  3970193  1.273455e+09            rudyanto62   \n3942129  3621669  9.813508e+06           hometown_ni   \n4219642  3851869  1.607309e+09   dwfitfiber_thailand   \n2207897   345591  1.087614e+09            waxking911   \n4313908  3944512  1.603890e+09         gamt_official   \n4219476  3851808  2.181730e+08  collarosedw_official   \n4236057  3868432  2.855497e+08        gamt_authentic   \n1631526  1312725  8.312603e+09        ivankkkka.trmp   \n4219551  3851819  1.701679e+09   dietdwplus_shopthai   \n\n                   firstname_lastname  \\\n3990313                    jasem33312   \n2571453             Helperwait Studio   \n4338921                  Rudyanto 王耀祝   \n3942129           AngelsCowboysLakers   \n4219642    เห็นผลตั้งแต่เซ็ตแรกท้าลอง   \n2207897               Frank Hernandez   \n4313908  Official IG Of GAMT Thailand   \n4219476           grapeseed+collarose   \n4236057  Official IG Of GAMT Thailand   \n1631526        IVANKA DARCEY K. TRUMP   \n4219551     อยากขาวใสผอมหุ่นดีทักมาคะ   \n\n                                               description  following  \\\n3990313                                                NaN        2.0   \n2571453                       Веб сайты от идеи до запуска     4538.0   \n4338921                                                NaN      164.0   \n3942129  All about live & let live. Peace & Harmony. La...     7488.0   \n4219642  ✿รับตัวแทนรายได้ดีมาก\\n🏧 KTB l SCB l KBANK | B...     7490.0   \n2207897                                                NaN      134.0   \n4313908  ❥ แว่น gamt พร้อมส่งของแท้💯 มีโปร1290 พร้อมซอง...     7470.0   \n4219476  🍇 สินค้าแบรนด์ dwplus\\n💓 collarose+grapeseed+f...     7496.0   \n4236057  ❥ แว่น gamt พร้อมส่ง มีโปร1290 พร้อมซองแว่น+ผ้...     7480.0   \n1631526                                     DORA. 👄 #Mango     7497.0   \n4219551  ✿รับตัวแทนรายได้ดีมาก\\n🏧 KTB l SCB l KBANK | B...     7471.0   \n\n         followers                       url                            cts  \\\n3990313    82049.0                       NaN  2019-06-30 19:14:19.780 -0400   \n2571453      675.0      vk.com/ru.helperwait  2019-05-07 00:14:06.799 -0400   \n4338921     1693.0                       NaN  2019-07-15 10:00:51.171 -0400   \n3942129     1755.0                       NaN  2019-06-27 02:49:38.140 -0400   \n4219642    44951.0            bit.ly/2GdIYJl  2019-07-13 02:10:07.317 -0400   \n2207897      138.0                       NaN                            NaN   \n4313908    36001.0            bit.ly/2GdIYJl  2019-07-14 21:10:30.785 -0400   \n4219476    18021.0            bit.ly/2asesw7  2019-07-13 02:08:17.407 -0400   \n4236057    27511.0            bit.ly/2T2RIqG  2019-07-13 09:28:30.025 -0400   \n1631526        2.0  www.flightclub.com/yeezy  2019-04-01 02:41:26.980 -0400   \n4219551    38680.0            bit.ly/2GdIYJl  2019-07-13 02:08:31.249 -0400   \n\n        is_business_account  \n3990313               False  \n2571453                True  \n4338921               False  \n3942129               False  \n4219642                True  \n2207897               False  \n4313908                True  \n4219476                True  \n4236057                True  \n1631526               False  \n4219551                True  ",
      "text/html": "<div>\n<style scoped>\n    .dataframe tbody tr th:only-of-type {\n        vertical-align: middle;\n    }\n\n    .dataframe tbody tr th {\n        vertical-align: top;\n    }\n\n    .dataframe thead th {\n        text-align: right;\n    }\n</style>\n<table border=\"1\" class=\"dataframe\">\n  <thead>\n    <tr style=\"text-align: right;\">\n      <th></th>\n      <th>sid</th>\n      <th>profile_id</th>\n      <th>profile_name</th>\n      <th>firstname_lastname</th>\n      <th>description</th>\n      <th>following</th>\n      <th>followers</th>\n      <th>url</th>\n      <th>cts</th>\n      <th>is_business_account</th>\n    </tr>\n  </thead>\n  <tbody>\n    <tr>\n      <th>3990313</th>\n      <td>3661552</td>\n      <td>1.996648e+08</td>\n      <td>jasem33312</td>\n      <td>jasem33312</td>\n      <td>NaN</td>\n      <td>2.0</td>\n      <td>82049.0</td>\n      <td>NaN</td>\n      <td>2019-06-30 19:14:19.780 -0400</td>\n      <td>False</td>\n    </tr>\n    <tr>\n      <th>2571453</th>\n      <td>3288809</td>\n      <td>8.563367e+09</td>\n      <td>koenigpic</td>\n      <td>Helperwait Studio</td>\n      <td>Веб сайты от идеи до запуска</td>\n      <td>4538.0</td>\n      <td>675.0</td>\n      <td>vk.com/ru.helperwait</td>\n      <td>2019-05-07 00:14:06.799 -0400</td>\n      <td>True</td>\n    </tr>\n    <tr>\n      <th>4338921</th>\n      <td>3970193</td>\n      <td>1.273455e+09</td>\n      <td>rudyanto62</td>\n      <td>Rudyanto 王耀祝</td>\n      <td>NaN</td>\n      <td>164.0</td>\n      <td>1693.0</td>\n      <td>NaN</td>\n      <td>2019-07-15 10:00:51.171 -0400</td>\n      <td>False</td>\n    </tr>\n    <tr>\n      <th>3942129</th>\n      <td>3621669</td>\n      <td>9.813508e+06</td>\n      <td>hometown_ni</td>\n      <td>AngelsCowboysLakers</td>\n      <td>All about live &amp; let live. Peace &amp; Harmony. La...</td>\n      <td>7488.0</td>\n      <td>1755.0</td>\n      <td>NaN</td>\n      <td>2019-06-27 02:49:38.140 -0400</td>\n      <td>False</td>\n    </tr>\n    <tr>\n      <th>4219642</th>\n      <td>3851869</td>\n      <td>1.607309e+09</td>\n      <td>dwfitfiber_thailand</td>\n      <td>เห็นผลตั้งแต่เซ็ตแรกท้าลอง</td>\n      <td>✿รับตัวแทนรายได้ดีมาก\\n🏧 KTB l SCB l KBANK | B...</td>\n      <td>7490.0</td>\n      <td>44951.0</td>\n      <td>bit.ly/2GdIYJl</td>\n      <td>2019-07-13 02:10:07.317 -0400</td>\n      <td>True</td>\n    </tr>\n    <tr>\n      <th>2207897</th>\n      <td>345591</td>\n      <td>1.087614e+09</td>\n      <td>waxking911</td>\n      <td>Frank Hernandez</td>\n      <td>NaN</td>\n      <td>134.0</td>\n      <td>138.0</td>\n      <td>NaN</td>\n      <td>NaN</td>\n      <td>False</td>\n    </tr>\n    <tr>\n      <th>4313908</th>\n      <td>3944512</td>\n      <td>1.603890e+09</td>\n      <td>gamt_official</td>\n      <td>Official IG Of GAMT Thailand</td>\n      <td>❥ แว่น gamt พร้อมส่งของแท้💯 มีโปร1290 พร้อมซอง...</td>\n      <td>7470.0</td>\n      <td>36001.0</td>\n      <td>bit.ly/2GdIYJl</td>\n      <td>2019-07-14 21:10:30.785 -0400</td>\n      <td>True</td>\n    </tr>\n    <tr>\n      <th>4219476</th>\n      <td>3851808</td>\n      <td>2.181730e+08</td>\n      <td>collarosedw_official</td>\n      <td>grapeseed+collarose</td>\n      <td>🍇 สินค้าแบรนด์ dwplus\\n💓 collarose+grapeseed+f...</td>\n      <td>7496.0</td>\n      <td>18021.0</td>\n      <td>bit.ly/2asesw7</td>\n      <td>2019-07-13 02:08:17.407 -0400</td>\n      <td>True</td>\n    </tr>\n    <tr>\n      <th>4236057</th>\n      <td>3868432</td>\n      <td>2.855497e+08</td>\n      <td>gamt_authentic</td>\n      <td>Official IG Of GAMT Thailand</td>\n      <td>❥ แว่น gamt พร้อมส่ง มีโปร1290 พร้อมซองแว่น+ผ้...</td>\n      <td>7480.0</td>\n      <td>27511.0</td>\n      <td>bit.ly/2T2RIqG</td>\n      <td>2019-07-13 09:28:30.025 -0400</td>\n      <td>True</td>\n    </tr>\n    <tr>\n      <th>1631526</th>\n      <td>1312725</td>\n      <td>8.312603e+09</td>\n      <td>ivankkkka.trmp</td>\n      <td>IVANKA DARCEY K. TRUMP</td>\n      <td>DORA. 👄 #Mango</td>\n      <td>7497.0</td>\n      <td>2.0</td>\n      <td>www.flightclub.com/yeezy</td>\n      <td>2019-04-01 02:41:26.980 -0400</td>\n      <td>False</td>\n    </tr>\n    <tr>\n      <th>4219551</th>\n      <td>3851819</td>\n      <td>1.701679e+09</td>\n      <td>dietdwplus_shopthai</td>\n      <td>อยากขาวใสผอมหุ่นดีทักมาคะ</td>\n      <td>✿รับตัวแทนรายได้ดีมาก\\n🏧 KTB l SCB l KBANK | B...</td>\n      <td>7471.0</td>\n      <td>38680.0</td>\n      <td>bit.ly/2GdIYJl</td>\n      <td>2019-07-13 02:08:31.249 -0400</td>\n      <td>True</td>\n    </tr>\n  </tbody>\n</table>\n</div>"
     },
     "execution_count": 51,
     "metadata": {},
     "output_type": "execute_result"
    }
   ],
   "source": [
    "Top_10"
   ]
  },
  {
   "cell_type": "code",
   "execution_count": null,
   "outputs": [],
   "source": [],
   "metadata": {
    "collapsed": false
   }
  }
 ],
 "metadata": {
  "kernelspec": {
   "display_name": "Python 3",
   "language": "python",
   "name": "python3"
  },
  "language_info": {
   "codemirror_mode": {
    "name": "ipython",
    "version": 3
   },
   "file_extension": ".py",
   "mimetype": "text/x-python",
   "name": "python",
   "nbconvert_exporter": "python",
   "pygments_lexer": "ipython3",
   "version": "3.8.8"
  }
 },
 "nbformat": 4,
 "nbformat_minor": 1
}
